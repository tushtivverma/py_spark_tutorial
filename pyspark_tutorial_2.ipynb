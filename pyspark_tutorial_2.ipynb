{
 "cells": [
  {
   "cell_type": "markdown",
   "id": "f94d8909",
   "metadata": {},
   "source": [
    "## Example ML problem to predict Salary"
   ]
  },
  {
   "cell_type": "code",
   "execution_count": 1,
   "id": "d3900609",
   "metadata": {},
   "outputs": [],
   "source": [
    "from pyspark.sql import SparkSession"
   ]
  },
  {
   "cell_type": "code",
   "execution_count": 2,
   "id": "88e2da98",
   "metadata": {},
   "outputs": [
    {
     "name": "stderr",
     "output_type": "stream",
     "text": [
      "Setting default log level to \"WARN\".\n",
      "To adjust logging level use sc.setLogLevel(newLevel). For SparkR, use setLogLevel(newLevel).\n",
      "24/08/19 16:22:45 WARN NativeCodeLoader: Unable to load native-hadoop library for your platform... using builtin-java classes where applicable\n"
     ]
    }
   ],
   "source": [
    "spark = SparkSession.builder.appName('Missing').getOrCreate()"
   ]
  },
  {
   "cell_type": "markdown",
   "id": "a07ac574",
   "metadata": {},
   "source": [
    "## Load the dataset"
   ]
  },
  {
   "cell_type": "code",
   "execution_count": 3,
   "id": "149e6da2",
   "metadata": {},
   "outputs": [],
   "source": [
    "df_spark = spark.read.csv('Dataset/test5.csv',header=True,inferSchema=True)"
   ]
  },
  {
   "cell_type": "code",
   "execution_count": 4,
   "id": "91ec0d7a",
   "metadata": {},
   "outputs": [
    {
     "name": "stdout",
     "output_type": "stream",
     "text": [
      "+------+---+----------+------+\n",
      "|  Name|Age|Experience|Salary|\n",
      "+------+---+----------+------+\n",
      "|  Jane| 26|         5| 87000|\n",
      "|  Liza| 28|         3|110000|\n",
      "|   Ram| 27|         7| 98000|\n",
      "|  Abey| 21|         6| 93000|\n",
      "|  Nick| 32|         9| 90000|\n",
      "|Arijit| 30|         3|103000|\n",
      "+------+---+----------+------+\n",
      "\n"
     ]
    }
   ],
   "source": [
    "df_spark.show()"
   ]
  },
  {
   "cell_type": "code",
   "execution_count": 5,
   "id": "39735e43",
   "metadata": {},
   "outputs": [
    {
     "name": "stdout",
     "output_type": "stream",
     "text": [
      "root\n",
      " |-- Name: string (nullable = true)\n",
      " |-- Age: integer (nullable = true)\n",
      " |-- Experience: integer (nullable = true)\n",
      " |-- Salary: integer (nullable = true)\n",
      "\n"
     ]
    }
   ],
   "source": [
    "df_spark.printSchema()"
   ]
  },
  {
   "cell_type": "code",
   "execution_count": 6,
   "id": "d93cd291",
   "metadata": {},
   "outputs": [
    {
     "data": {
      "text/plain": [
       "['Name', 'Age', 'Experience', 'Salary']"
      ]
     },
     "execution_count": 6,
     "metadata": {},
     "output_type": "execute_result"
    }
   ],
   "source": [
    "df_spark.columns"
   ]
  },
  {
   "cell_type": "code",
   "execution_count": 7,
   "id": "4e228590",
   "metadata": {},
   "outputs": [],
   "source": [
    "from pyspark.ml.feature import VectorAssembler"
   ]
  },
  {
   "cell_type": "code",
   "execution_count": 8,
   "id": "9ea0614b",
   "metadata": {},
   "outputs": [],
   "source": [
    "featureassembler = VectorAssembler(inputCols = ['Age','Experience'], outputCol ='Independent_Feature')"
   ]
  },
  {
   "cell_type": "code",
   "execution_count": 9,
   "id": "669e4b3d",
   "metadata": {},
   "outputs": [],
   "source": [
    "df_spark = featureassembler.transform(df_spark)"
   ]
  },
  {
   "cell_type": "code",
   "execution_count": 10,
   "id": "33adae11",
   "metadata": {},
   "outputs": [
    {
     "name": "stdout",
     "output_type": "stream",
     "text": [
      "+------+---+----------+------+-------------------+\n",
      "|  Name|Age|Experience|Salary|Independent_Feature|\n",
      "+------+---+----------+------+-------------------+\n",
      "|  Jane| 26|         5| 87000|         [26.0,5.0]|\n",
      "|  Liza| 28|         3|110000|         [28.0,3.0]|\n",
      "|   Ram| 27|         7| 98000|         [27.0,7.0]|\n",
      "|  Abey| 21|         6| 93000|         [21.0,6.0]|\n",
      "|  Nick| 32|         9| 90000|         [32.0,9.0]|\n",
      "|Arijit| 30|         3|103000|         [30.0,3.0]|\n",
      "+------+---+----------+------+-------------------+\n",
      "\n"
     ]
    }
   ],
   "source": [
    "df_spark.show()"
   ]
  },
  {
   "cell_type": "code",
   "execution_count": 11,
   "id": "35726791",
   "metadata": {},
   "outputs": [
    {
     "data": {
      "text/plain": [
       "['Name', 'Age', 'Experience', 'Salary', 'Independent_Feature']"
      ]
     },
     "execution_count": 11,
     "metadata": {},
     "output_type": "execute_result"
    }
   ],
   "source": [
    "df_spark.columns"
   ]
  },
  {
   "cell_type": "code",
   "execution_count": 12,
   "id": "a582f9e3",
   "metadata": {},
   "outputs": [],
   "source": [
    "feature_select = df_spark.select('Salary','Independent_Feature')"
   ]
  },
  {
   "cell_type": "code",
   "execution_count": 13,
   "id": "7e37601d",
   "metadata": {},
   "outputs": [
    {
     "name": "stdout",
     "output_type": "stream",
     "text": [
      "+------+-------------------+\n",
      "|Salary|Independent_Feature|\n",
      "+------+-------------------+\n",
      "| 87000|         [26.0,5.0]|\n",
      "|110000|         [28.0,3.0]|\n",
      "| 98000|         [27.0,7.0]|\n",
      "| 93000|         [21.0,6.0]|\n",
      "| 90000|         [32.0,9.0]|\n",
      "|103000|         [30.0,3.0]|\n",
      "+------+-------------------+\n",
      "\n"
     ]
    }
   ],
   "source": [
    "feature_select.show()"
   ]
  },
  {
   "cell_type": "code",
   "execution_count": 14,
   "id": "ee778ad9",
   "metadata": {},
   "outputs": [],
   "source": [
    "from pyspark.ml.regression import LinearRegression"
   ]
  },
  {
   "cell_type": "markdown",
   "id": "0f9b9712",
   "metadata": {},
   "source": [
    "## Split the data"
   ]
  },
  {
   "cell_type": "code",
   "execution_count": 15,
   "id": "0b025cdb",
   "metadata": {},
   "outputs": [],
   "source": [
    "train_data,test_data = feature_select.randomSplit([0.75,0.25])"
   ]
  },
  {
   "cell_type": "code",
   "execution_count": 16,
   "id": "ff57f4e8",
   "metadata": {},
   "outputs": [],
   "source": [
    "regressor = LinearRegression(featuresCol='Independent_Feature',labelCol='Salary')"
   ]
  },
  {
   "cell_type": "code",
   "execution_count": 17,
   "id": "635ddb88",
   "metadata": {},
   "outputs": [
    {
     "name": "stderr",
     "output_type": "stream",
     "text": [
      "24/08/19 16:23:01 WARN Instrumentation: [cd0637e1] regParam is zero, which might cause numerical instability and overfitting.\n",
      "24/08/19 16:23:01 WARN InstanceBuilder: Failed to load implementation from:dev.ludovic.netlib.blas.JNIBLAS\n",
      "24/08/19 16:23:01 WARN InstanceBuilder: Failed to load implementation from:dev.ludovic.netlib.blas.VectorBLAS\n",
      "24/08/19 16:23:01 WARN InstanceBuilder: Failed to load implementation from:dev.ludovic.netlib.lapack.JNILAPACK\n"
     ]
    }
   ],
   "source": [
    "regressor = regressor.fit(train_data)"
   ]
  },
  {
   "cell_type": "markdown",
   "id": "d155e5ea",
   "metadata": {},
   "source": [
    "## Coefficients, Intercept, Predictions, metrics"
   ]
  },
  {
   "cell_type": "code",
   "execution_count": 18,
   "id": "552bf61b",
   "metadata": {},
   "outputs": [
    {
     "data": {
      "text/plain": [
       "DenseVector([433.0651, -1551.5728])"
      ]
     },
     "execution_count": 18,
     "metadata": {},
     "output_type": "execute_result"
    }
   ],
   "source": [
    "regressor.coefficients"
   ]
  },
  {
   "cell_type": "code",
   "execution_count": 19,
   "id": "34dfd5cf",
   "metadata": {},
   "outputs": [
    {
     "data": {
      "text/plain": [
       "91730.06583760223"
      ]
     },
     "execution_count": 19,
     "metadata": {},
     "output_type": "execute_result"
    }
   ],
   "source": [
    "regressor.intercept"
   ]
  },
  {
   "cell_type": "code",
   "execution_count": 20,
   "id": "2854ad32",
   "metadata": {},
   "outputs": [],
   "source": [
    "results = regressor.evaluate(test_data)"
   ]
  },
  {
   "cell_type": "code",
   "execution_count": 21,
   "id": "464dbe1b",
   "metadata": {},
   "outputs": [
    {
     "name": "stdout",
     "output_type": "stream",
     "text": [
      "+------+-------------------+-----------------+\n",
      "|Salary|Independent_Feature|       prediction|\n",
      "+------+-------------------+-----------------+\n",
      "|110000|         [28.0,3.0]|99201.17044623256|\n",
      "+------+-------------------+-----------------+\n",
      "\n"
     ]
    }
   ],
   "source": [
    "results.predictions.show()"
   ]
  },
  {
   "cell_type": "code",
   "execution_count": 22,
   "id": "e9411f75",
   "metadata": {},
   "outputs": [
    {
     "data": {
      "text/plain": [
       "10798.829553767442"
      ]
     },
     "execution_count": 22,
     "metadata": {},
     "output_type": "execute_result"
    }
   ],
   "source": [
    "results.meanAbsoluteError"
   ]
  },
  {
   "cell_type": "code",
   "execution_count": 23,
   "id": "3a906cc8",
   "metadata": {},
   "outputs": [
    {
     "data": {
      "text/plain": [
       "116614719.73132113"
      ]
     },
     "execution_count": 23,
     "metadata": {},
     "output_type": "execute_result"
    }
   ],
   "source": [
    "results.meanSquaredError"
   ]
  },
  {
   "cell_type": "code",
   "execution_count": null,
   "id": "a793ce8d",
   "metadata": {},
   "outputs": [],
   "source": []
  }
 ],
 "metadata": {
  "kernelspec": {
   "display_name": "Python (tushti)",
   "language": "python",
   "name": "myenv"
  },
  "language_info": {
   "codemirror_mode": {
    "name": "ipython",
    "version": 3
   },
   "file_extension": ".py",
   "mimetype": "text/x-python",
   "name": "python",
   "nbconvert_exporter": "python",
   "pygments_lexer": "ipython3",
   "version": "3.11.7"
  }
 },
 "nbformat": 4,
 "nbformat_minor": 5
}
